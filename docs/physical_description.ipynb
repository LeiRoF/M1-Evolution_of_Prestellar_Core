{
 "cells": [
  {
   "cell_type": "markdown",
   "metadata": {},
   "source": [
    "# Physical description\n",
    "\n",
    "The goal is to study the evolution of a prestellar core (density and velocity profiles).\n",
    "We assume that:\n",
    "- The core present a spherical symetry (behavior fully discribed in 1D)\n",
    "- Ideal gas lew remain applicable (first steps of the core collapsing)\n",
    "- The behavior is driven only by the gravity and the internal thermal pressure (no trubulence, no magnetic field, no external pressure etc.)\n",
    "\n",
    "Thus, the fundamental laws of physics included in the model are:\n",
    "- The continuity equation for the mass volume density $\\rho$ and velocity field $\\vec v$\n",
    "\n",
    "$$ \\tag{1} \\frac{\\partial \\rho}{\\partial t} + \\nabla . \\rho \\vec v = 0 $$\n",
    "\n",
    "- The Navier-Stokes equation with pressure P and gravitational potentiel $\\Phi$\n",
    "\n",
    "$$ \\tag{2} \\rho \\bigg( \\frac{\\partial \\vec v}{\\partial t} + \\vec v . \\nabla \\vec v \\bigg) = - \\nabla P - \\rho \\nabla \\Phi $$\n",
    "\n",
    "- The Poisson equation\n",
    "\n",
    "$$ \\tag{3} \\nabla^2 \\Phi = 4 \\pi G \\rho $$\n",
    "\n",
    "- The law of ideal gas\n",
    "\n",
    "$$ \\tag{4} P = c_s^2 \\rho \\:\\:\\:\\:\\:\\text{where}\\:\\:\\:\\:\\: c_s = \\sqrt{\\frac{k_B T}{\\mu m_H}} $$"
   ]
  },
  {
   "cell_type": "markdown",
   "metadata": {},
   "source": [
    "By injecting ex. 3 and 4 into eq. 2, we obtain\n",
    "\n",
    "$$ \\tag{5} \\frac{\\partial \\rho}{\\partial t} = - \\frac{1}{r^2} \\frac{\\partial (r^2 \\rho v)}{\\partial r} $$\n",
    "$$ \\tag{6} \\frac{\\partial v}{\\partial t} = - v \\frac{\\partial v}{\\partial r} - \\frac{c_s^2}{\\rho} \\frac{\\partial \\rho}{\\partial r} - \\int 4 \\pi G \\rho dr $$"
   ]
  },
  {
   "cell_type": "markdown",
   "metadata": {},
   "source": [
    "To compute this numercially, we use an equivalent in a discret space and time\n",
    "\n",
    "$$ \\tag{7} \\rho_{i+1} = \\rho_i - \\frac{1}{r^2}\\bigg(\\frac{\\partial(r^2\\rho v)}{\\partial r}\\bigg)_i dt + o(dt)$$\n",
    "$$ \\tag{8} v_{i+1} = v_i + \\bigg[-v_i\\bigg(\\frac{\\partial v}{\\partial r}\\bigg)_i - \\frac{c_s^2}{\\rho_i}\\bigg(\\frac{\\partial \\rho}{\\partial r}\\bigg)_i - \\int 4 \\pi G \\rho_i dr \\bigg] dt + o(dt)$$"
   ]
  },
  {
   "cell_type": "markdown",
   "metadata": {},
   "source": [
    "The derivative is then defined as\n",
    "\n",
    "$$ \\tag{9} \\frac{\\partial F}{\\partial r} \\approx \\frac{F(r+dr) - F(r)}{dr} $$"
   ]
  }
 ],
 "metadata": {
  "language_info": {
   "name": "python"
  },
  "orig_nbformat": 4
 },
 "nbformat": 4,
 "nbformat_minor": 2
}
