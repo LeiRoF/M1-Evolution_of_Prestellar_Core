{
 "cells": [
  {
   "cell_type": "markdown",
   "metadata": {},
   "source": [
    "# Installation\n",
    "\n",
    "This project was made using Fortran90 and can not run correctly in previous versions.\n",
    "\n",
    "## Install the Fortran module\n",
    "\n",
    "1) Get the source code\n",
    "\n",
    "```\n",
    "git clone https://gitlab.com/vincent_foriel/etudes/m1-compuphys/python/evolution-of-prestellar-core\n",
    "```\n",
    "\n",
    "2) Go in the source folder\n",
    "\n",
    "cd evolution-of-prestellar-core\n",
    "\n",
    "3) Compile the modules\n",
    "\n",
    "```\n",
    "gfortran -c ./Constant.f90 ./Prestel.f90\n",
    "```\n",
    "\n",
    "5) Do not forget to join the module files when you compile your main program.\n",
    "\n",
    "## Install in diagnostic mode\n",
    "\n",
    "The visualizer file is using Jupyter Notebooks and Python3.9. It can not run correctly in previous versions.\n",
    "\n",
    "1) Execute all the previous steps (install the fortran module)\n",
    "\n",
    "2) Install python dependencies\n",
    "\n",
    "```\n",
    "pip install -r requirements.txt\n",
    "```\n",
    "\n",
    "3) Compile all the fortran files\n",
    "\n",
    "```\n",
    "gfortran ./Constant.f90 ./Prestel.f90 ./RunTest.f90\n",
    "```\n",
    "\n",
    "4) Run the fortran program\n",
    "\n",
    "On Windows:\n",
    "```\n",
    "./a.exe\n",
    "```\n",
    "\n",
    "On Linux:\n",
    "```\n",
    "./a.out\n",
    "```\n",
    "\n",
    "5) Open the \"ipynb\" file corresponding to the basic system you want to study (constant, gaussian, exponential) and execute all the file."
   ]
  },
  {
   "cell_type": "markdown",
   "metadata": {},
   "source": []
  }
 ],
 "metadata": {
  "language_info": {
   "name": "python"
  },
  "orig_nbformat": 4
 },
 "nbformat": 4,
 "nbformat_minor": 2
}
