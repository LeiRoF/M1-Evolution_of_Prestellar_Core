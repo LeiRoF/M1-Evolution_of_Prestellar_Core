{
 "cells": [
  {
   "cell_type": "markdown",
   "metadata": {},
   "source": [
    "# Installation\n",
    "\n",
    "This project was made using Fortran90 and can not run correctly in previous versions.\n",
    "\n",
    "## Install the Fortran module\n",
    "\n",
    "1) Get the source code\n",
    "\n",
    "```\n",
    "git clone https://gitlab.com/vincent_foriel/etudes/m1-compuphys/fortran/evolution-of-prestellar-core.git\n",
    "```\n",
    "\n",
    "2) Go in the source folder\n",
    "\n",
    "cd evolution-of-prestellar-core\n",
    "\n",
    "3) Compile the modules\n",
    "\n",
    "```\n",
    "gfortran -c ./Constant.f90 ./Prestel.f90\n",
    "```\n",
    "\n",
    "5) Do not forget to join the module files when you compile your main program."
   ]
  }
 ],
 "metadata": {
  "language_info": {
   "name": "python"
  },
  "orig_nbformat": 4
 },
 "nbformat": 4,
 "nbformat_minor": 2
}
